{
 "cells": [
  {
   "cell_type": "code",
   "execution_count": 1,
   "metadata": {},
   "outputs": [],
   "source": [
    "import cv2\n",
    "import os\n",
    "import time\n",
    "import matplotlib.pyplot as plt\n",
    "from IPython.display import clear_output\n",
    "from genetic_editing import *"
   ]
  },
  {
   "cell_type": "code",
   "execution_count": 4,
   "metadata": {},
   "outputs": [
    {
     "name": "stdout",
     "output_type": "stream",
     "text": [
      ". Generation  100 / 100\n"
     ]
    }
   ],
   "source": [
    "#load the example image and set the generator for 100 stages with 20 generations each\n",
    "gen = GeneticEditing('target_image/I10.png','source_svg/I.svg', seed=time.time())\n",
    "out = gen.generate(100,show_progress_imgs=False)"
   ]
  },
  {
   "cell_type": "code",
   "execution_count": 5,
   "metadata": {},
   "outputs": [
    {
     "data": {
      "text/plain": [
       "<matplotlib.image.AxesImage at 0x7fae1a1506d0>"
      ]
     },
     "execution_count": 5,
     "metadata": {},
     "output_type": "execute_result"
    },
    {
     "data": {
      "image/png": "[encoded data removed]",
      "text/plain": [
       "<Figure size 432x288 with 1 Axes>"
      ]
     },
     "metadata": {
      "needs_background": "light"
     },
     "output_type": "display_data"
    }
   ],
   "source": [
    "plt.imshow(out, cmap='gray')"
   ]
  },
  {
   "cell_type": "code",
   "execution_count": null,
   "metadata": {},
   "outputs": [],
   "source": [
    "#load a custom mask and set a smaller brush size for finer details\n",
    "gen.sampling_mask = cv2.cvtColor(cv2.imread(\"mask.jpg\"), cv2.COLOR_BGR2GRAY)\n",
    "gen.brushesRange = [[0.05, 0.1], [0.1, 0.2]]\n",
    "#keep drawing on top of our previous result\n",
    "out = gen.generate(40, 30)"
   ]
  },
  {
   "cell_type": "code",
   "execution_count": null,
   "metadata": {},
   "outputs": [],
   "source": [
    "#save all the images from the image buffer\n",
    "if not os.path.exists('out'):\n",
    "    os.mkdir(\"out\")\n",
    "for i in range(len(gen.imgBuffer)):\n",
    "    cv2.imwrite(os.path.join(\"out\", f\"{i:06d}.png\"), gen.imgBuffer[i])\n",
    "#if you want to save only last image, run below\n",
    "# cv2.imwrite(\"out/final.png', out)"
   ]
  }
 ],
 "metadata": {
  "kernelspec": {
   "display_name": "Python 3",
   "language": "python",
   "name": "python3"
  },
  "language_info": {
   "codemirror_mode": {
    "name": "ipython",
    "version": 3
   },
   "file_extension": ".py",
   "mimetype": "text/x-python",
   "name": "python",
   "nbconvert_exporter": "python",
   "pygments_lexer": "ipython3",
   "version": "3.8.1"
  }
 },
 "nbformat": 4,
 "nbformat_minor": 2
}
